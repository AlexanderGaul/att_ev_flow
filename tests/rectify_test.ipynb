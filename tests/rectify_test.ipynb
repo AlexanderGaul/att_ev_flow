{
 "cells": [
  {
   "cell_type": "code",
   "execution_count": 1,
   "id": "f418dffe",
   "metadata": {},
   "outputs": [],
   "source": [
    "import numpy as np\n",
    "\n",
    "import cv2\n",
    "\n",
    "from dsec import DSEC\n",
    "\n",
    "from utils import dist2rect, rect2dist"
   ]
  },
  {
   "cell_type": "code",
   "execution_count": null,
   "outputs": [],
   "source": [
    "import time"
   ],
   "metadata": {
    "collapsed": false,
    "pycharm": {
     "name": "#%%\n"
    }
   }
  },
  {
   "cell_type": "code",
   "execution_count": 2,
   "outputs": [],
   "source": [
    "dsec = DSEC()"
   ],
   "metadata": {
    "collapsed": false,
    "pycharm": {
     "name": "#%%\n"
    }
   }
  },
  {
   "cell_type": "code",
   "execution_count": 15,
   "outputs": [],
   "source": [
    "rm = np.array(dsec.rectify_maps[0]['rectify_map'])\n",
    "\n",
    "R = np.array(dsec.cams[0]['extrinsics']['R_rect0'])\n",
    "dist = np.array(dsec.cams[0]['intrinsics']['cam0']['distortion_coeffs'])\n",
    "k_dist = np.array(dsec.cams[0]['intrinsics']['cam0']['camera_matrix'])\n",
    "k_rect = np.array(dsec.cams[0]['intrinsics']['camRect0']['camera_matrix'])\n",
    "K_rect = np.array([[k_rect[0], 0, k_rect[2]],\n",
    "                   [0, k_rect[1], k_rect[3]],\n",
    "                   [0, 0, 1]])\n",
    "K_dist = np.array([[k_dist[0], 0, k_dist[2]],\n",
    "                   [0, k_dist[1], k_dist[3]],\n",
    "                   [0, 0, 1]])\n",
    "\n",
    "xys = np.array([[0, 0],\n",
    "                [639, 0],\n",
    "                [0, 479],\n",
    "                [639, 479]])"
   ],
   "metadata": {
    "collapsed": false,
    "pycharm": {
     "name": "#%%\n"
    }
   }
  },
  {
   "cell_type": "code",
   "execution_count": 25,
   "outputs": [
    {
     "name": "stdout",
     "output_type": "stream",
     "text": [
      "[[-13.74142628  -4.9402896 ]\n",
      " [654.37295098  -4.84200129]\n",
      " [-12.39900617 491.82189056]\n",
      " [650.87186114 496.71564016]]\n"
     ]
    }
   ],
   "source": [
    "xys_K = cv2.undistortPoints(xys.astype(np.float32), K_dist, dist).reshape(-1,2)\n",
    "xys_K  = np.concatenate([xys_K, np.ones([len(xys_K), 1])], axis=1)\n",
    "\n",
    "xys_rect = xys_K.dot(R.transpose())[:, :2] * k_rect[:2] + k_rect[2:4]\n",
    "print(xys_rect)"
   ],
   "metadata": {
    "collapsed": false,
    "pycharm": {
     "name": "#%%\n"
    }
   }
  },
  {
   "cell_type": "code",
   "execution_count": 35,
   "outputs": [
    {
     "name": "stdout",
     "output_type": "stream",
     "text": [
      "[[-0.61136687 -0.3839531 ]\n",
      " [ 0.53406453 -0.38732067]\n",
      " [-0.60644686  0.46766567]\n",
      " [ 0.530706    0.47254485]]\n"
     ]
    }
   ],
   "source": [
    "print(cv2.undistortPoints(xys.astype(np.float32), K_dist, dist).reshape(-1,2))"
   ],
   "metadata": {
    "collapsed": false,
    "pycharm": {
     "name": "#%%\n"
    }
   }
  },
  {
   "cell_type": "code",
   "execution_count": 37,
   "outputs": [
    {
     "name": "stdout",
     "output_type": "stream",
     "text": [
      "[[-0.59801326 -0.3852586   1.        ]\n",
      " [ 0.54736408 -0.38914693  1.        ]\n",
      " [-0.59505374  0.46160095  1.        ]\n",
      " [ 0.54066684  0.47484187  1.        ]]\n",
      "[[-0.5980133  -0.3852586 ]\n",
      " [ 0.54736406 -0.38914692]\n",
      " [-0.59505373  0.46160096]\n",
      " [ 0.5406668   0.47484186]]\n"
     ]
    }
   ],
   "source": [
    "xys_rect = cv2.undistortPoints(xys.astype(np.float32), K_dist, dist).reshape(-1,2)\n",
    "xys_rect = np.concatenate([xys_rect, np.ones([len(xys_rect), 1])], axis=1).dot(R.transpose())\n",
    "print(xys_rect / xys_rect[:, [2]])\n",
    "print(cv2.undistortPoints(xys.astype(np.float32), K_dist, dist, R=R).reshape(-1,2))"
   ],
   "metadata": {
    "collapsed": false,
    "pycharm": {
     "name": "#%%\n"
    }
   }
  },
  {
   "cell_type": "code",
   "execution_count": 21,
   "outputs": [
    {
     "name": "stdout",
     "output_type": "stream",
     "text": [
      "[[-11.99185877  -3.81315099]\n",
      " [656.1160433   -6.08125059]\n",
      " [-10.26552955 490.16689811]\n",
      " [652.20949029 497.89042471]]\n"
     ]
    }
   ],
   "source": [
    "xys_rect = cv2.undistortPoints(xys.astype(np.float32), K_dist, dist, R=R).reshape(-1,2)\n",
    "xys_rect = xys_rect * k_rect[:2] + k_rect[2:4]\n",
    "print(xys_rect)"
   ],
   "metadata": {
    "collapsed": false,
    "pycharm": {
     "name": "#%%\n"
    }
   }
  },
  {
   "cell_type": "code",
   "execution_count": 20,
   "outputs": [
    {
     "name": "stdout",
     "output_type": "stream",
     "text": [
      "[[-11.991862   -3.8131533]\n",
      " [656.116      -6.0812483]\n",
      " [-10.26552   490.1669   ]\n",
      " [652.2095    497.89044  ]]\n"
     ]
    }
   ],
   "source": [
    "xys_rect = cv2.undistortPoints(xys.astype(np.float32), K_dist, dist, R=R, P=K_rect).reshape(-1,2)\n",
    "print(xys_rect)"
   ],
   "metadata": {
    "collapsed": false,
    "pycharm": {
     "name": "#%%\n"
    }
   }
  },
  {
   "cell_type": "code",
   "execution_count": 4,
   "outputs": [
    {
     "name": "stdout",
     "output_type": "stream",
     "text": [
      "[[-11.992482   -3.8135486]\n",
      " [656.11633    -6.081475 ]\n",
      " [-10.26636   490.16754  ]\n",
      " [652.2097    497.89062  ]]\n"
     ]
    }
   ],
   "source": [
    "print(rm[xys[:, 1], xys[:, 0]])"
   ],
   "metadata": {
    "collapsed": false,
    "pycharm": {
     "name": "#%%\n"
    }
   }
  },
  {
   "cell_type": "code",
   "execution_count": 14,
   "outputs": [
    {
     "name": "stdout",
     "output_type": "stream",
     "text": [
      "[[-11.992482   -3.8135486]\n",
      " [656.11633    -6.081475 ]\n",
      " [-10.26636   490.16754  ]\n",
      " [652.2097    497.89062  ]]\n"
     ]
    }
   ],
   "source": [
    "term_criteria = (cv2.TERM_CRITERIA_MAX_ITER | cv2.TERM_CRITERIA_EPS, 100, 0.001)\n",
    "points = cv2.undistortPointsIter(xys.astype(np.float32), K_dist, dist, R, K_rect, criteria=term_criteria).reshape(-1, 2)\n",
    "print(points)"
   ],
   "metadata": {
    "collapsed": false,
    "pycharm": {
     "name": "#%%\n"
    }
   }
  },
  {
   "cell_type": "code",
   "execution_count": null,
   "outputs": [],
   "source": [],
   "metadata": {
    "collapsed": false,
    "pycharm": {
     "name": "#%%\n"
    }
   }
  },
  {
   "cell_type": "code",
   "execution_count": 24,
   "outputs": [
    {
     "name": "stdout",
     "output_type": "stream",
     "text": [
      "<HDF5 dataset \"rectify_map\": shape (480, 640, 2), type \"<f4\">\n"
     ]
    }
   ],
   "source": [
    "print(rm)"
   ],
   "metadata": {
    "collapsed": false,
    "pycharm": {
     "name": "#%%\n"
    }
   }
  },
  {
   "cell_type": "code",
   "execution_count": null,
   "outputs": [],
   "source": [
    "rm = np.array(dsec.rectify_maps[0]['rectify_map'])\n",
    "\n",
    "R = np.array(dsec.cams[0]['extrinsics']['R_rect0'])\n",
    "dist = np.array(dsec.cams[0]['intrinsics']['cam0']['distortion_coeffs'])\n",
    "k_dist = np.array(dsec.cams[0]['intrinsics']['cam0']['camera_matrix'])\n",
    "k_rect = np.array(dsec.cams[0]['intrinsics']['camRect0']['camera_matrix'])\n",
    "\n",
    "K_dist = np.array([[k_dist[0], 0, k_dist[2]],\n",
    "                   [0, k_dist[1], k_dist[3]],\n",
    "                   [0, 0, 1]])\n",
    "\n",
    "xys = np.array([[0, 0],\n",
    "                [639, 0],\n",
    "                [0, 479],\n",
    "                [639, 479]])\n",
    "\n",
    "xys_K = cv2.undistortPoints(xys.astype(np.float32), K_dist, dist).reshape(-1, 2)\n",
    "xys_K_hom = np.concatenate([xys_K, np.ones([len(xys_K), 1]) ], axis=1)\n",
    "xys_rect = xys_K_hom.dot(R.transpose())[:, :2] * k_rect[:2].reshape(1, 2) + k_rect[2:4].reshape(1, 2)\n",
    "print(xys_rect)"
   ],
   "metadata": {
    "collapsed": false,
    "pycharm": {
     "name": "#%%\n"
    }
   }
  }
 ],
 "metadata": {
  "kernelspec": {
   "display_name": "Python 3",
   "language": "python",
   "name": "python3"
  },
  "language_info": {
   "codemirror_mode": {
    "name": "ipython",
    "version": 3
   },
   "file_extension": ".py",
   "mimetype": "text/x-python",
   "name": "python",
   "nbconvert_exporter": "python",
   "pygments_lexer": "ipython3",
   "version": "3.8.10"
  }
 },
 "nbformat": 4,
 "nbformat_minor": 5
}
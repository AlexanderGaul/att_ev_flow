{
 "cells": [
  {
   "cell_type": "code",
   "execution_count": 3,
   "outputs": [],
   "source": [
    "import numpy as np\n",
    "\n",
    "import cv2\n",
    "\n",
    "from dsec import DSEC\n",
    "\n",
    "import time"
   ],
   "metadata": {
    "collapsed": false,
    "pycharm": {
     "name": "#%%\n"
    }
   }
  },
  {
   "cell_type": "code",
   "execution_count": 4,
   "outputs": [],
   "source": [
    "dsec = DSEC()\n",
    "events_h5 = dsec.get_event_file(dsec.seqs[0])\n"
   ],
   "metadata": {
    "collapsed": false,
    "pycharm": {
     "name": "#%%\n"
    }
   }
  },
  {
   "cell_type": "code",
   "execution_count": 6,
   "outputs": [
    {
     "name": "stdout",
     "output_type": "stream",
     "text": [
      "2.106527805328369\n"
     ]
    }
   ],
   "source": [
    "t = time.time()\n",
    "events_direct = np.zeros(315285500)\n",
    "events_h5[\"events\"][\"x\"].read_direct(events_direct)\n",
    "print(time.time() - t)"
   ],
   "metadata": {
    "collapsed": false,
    "pycharm": {
     "name": "#%%\n"
    }
   }
  },
  {
   "cell_type": "code",
   "execution_count": 7,
   "outputs": [
    {
     "name": "stdout",
     "output_type": "stream",
     "text": [
      "2.7129321098327637\n"
     ]
    }
   ],
   "source": [
    "t = time.time()\n",
    "events_direct = np.zeros(315285500)\n",
    "np.array(events_h5[\"events\"][\"x\"])\n",
    "print(time.time() - t)"
   ],
   "metadata": {
    "collapsed": false,
    "pycharm": {
     "name": "#%%\n"
    }
   }
  },
  {
   "cell_type": "code",
   "execution_count": 12,
   "outputs": [
    {
     "name": "stdout",
     "output_type": "stream",
     "text": [
      "(100000000,)\n",
      "3.3557212352752686\n"
     ]
    }
   ],
   "source": [
    "t = time.time()\n",
    "events_direct = np.zeros(315285500)\n",
    "events_h5[\"events\"][\"x\"].read_direct(events_direct)\n",
    "e = events_direct[115285500:215285500]\n",
    "print(e.shape)\n",
    "print(time.time() - t)"
   ],
   "metadata": {
    "collapsed": false,
    "pycharm": {
     "name": "#%%\n"
    }
   }
  },
  {
   "cell_type": "code",
   "execution_count": 14,
   "outputs": [
    {
     "name": "stdout",
     "output_type": "stream",
     "text": [
      "(100000000,)\n",
      "0.38013720512390137\n"
     ]
    }
   ],
   "source": [
    "t = time.time()\n",
    "events_direct = np.zeros(315285500)\n",
    "e = events_h5[\"events\"][\"x\"][115285500:215285500]\n",
    "print(e.shape)\n",
    "print(time.time() - t)"
   ],
   "metadata": {
    "collapsed": false,
    "pycharm": {
     "name": "#%%\n"
    }
   }
  },
  {
   "cell_type": "code",
   "execution_count": 28,
   "outputs": [],
   "source": [
    "res = (320, 240)\n",
    "offset = (100, 50)\n",
    "xs = np.arange(offset[0], res[0] + offset[0])\n",
    "ys = np.arange(offset[1], res[1] + offset[1])"
   ],
   "metadata": {
    "collapsed": false,
    "pycharm": {
     "name": "#%%\n"
    }
   }
  },
  {
   "cell_type": "code",
   "execution_count": 29,
   "outputs": [
    {
     "name": "stdout",
     "output_type": "stream",
     "text": [
      "[[100 101 102 ... 417 418 419]\n",
      " [100 101 102 ... 417 418 419]\n",
      " [100 101 102 ... 417 418 419]\n",
      " ...\n",
      " [100 101 102 ... 417 418 419]\n",
      " [100 101 102 ... 417 418 419]\n",
      " [100 101 102 ... 417 418 419]]\n",
      "[[ 50  50  50 ...  50  50  50]\n",
      " [ 51  51  51 ...  51  51  51]\n",
      " [ 52  52  52 ...  52  52  52]\n",
      " ...\n",
      " [287 287 287 ... 287 287 287]\n",
      " [288 288 288 ... 288 288 288]\n",
      " [289 289 289 ... 289 289 289]]\n"
     ]
    }
   ],
   "source": [
    "X, Y = np.meshgrid(xs, ys)\n",
    "print(X)\n",
    "print(Y)"
   ],
   "metadata": {
    "collapsed": false,
    "pycharm": {
     "name": "#%%\n"
    }
   }
  },
  {
   "cell_type": "code",
   "execution_count": 27,
   "outputs": [
    {
     "name": "stdout",
     "output_type": "stream",
     "text": [
      "[[  0   0]\n",
      " [  1   0]\n",
      " [  2   0]\n",
      " ...\n",
      " [317 239]\n",
      " [318 239]\n",
      " [319 239]]\n"
     ]
    }
   ],
   "source": [
    "coords = np.concatenate([X.reshape(-1, 1),\n",
    "                         Y.reshape(-1, 1)], axis=1)\n",
    "print(coords)"
   ],
   "metadata": {
    "collapsed": false,
    "pycharm": {
     "name": "#%%\n"
    }
   }
  },
  {
   "cell_type": "code",
   "execution_count": null,
   "outputs": [],
   "source": [],
   "metadata": {
    "collapsed": false,
    "pycharm": {
     "name": "#%%\n"
    }
   }
  }
 ],
 "metadata": {},
 "nbformat": 4,
 "nbformat_minor": 5
}